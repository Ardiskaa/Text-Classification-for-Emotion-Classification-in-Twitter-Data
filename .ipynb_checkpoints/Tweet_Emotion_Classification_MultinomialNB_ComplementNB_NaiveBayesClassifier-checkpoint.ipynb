{
 "cells": [
  {
   "cell_type": "markdown",
   "metadata": {},
   "source": [
    "# Tweet Emotion Classification "
   ]
  },
  {
   "cell_type": "markdown",
   "metadata": {},
   "source": [
    "TEXT PREPROCESSING PENGANTAR PEMROSESAN DATA MULTIMEDIA\n",
    "KLASIFIKASI TEKS PADA KLASIFIKASI EMOSI DATA TEXT TWITTER\n",
    "\n",
    "Kelompok II\n",
    "Kelas C\n",
    "\n",
    "Ni Putu Dita Ari Pratiwi \t\t    (2208561003)\n",
    "Putu Ardi Sudarmika \t\t\t    (2208561028)\n",
    "Dominggo Pratama Sidauruk \t\t    (2208561092)\n",
    "I Gede Putu Mahasatya Katyayana \t(2208561116)"
   ]
  },
  {
   "cell_type": "markdown",
   "metadata": {},
   "source": [
    "Dataset\n",
    "Dalam proyek ini saya menggunakan 4.403 tweet berbahasa Indonesia yang telah dikategorikan ke dalam 5 kategori, yaitu anger, happy, sadness, fear, and love.\n",
    "kredit dataset: https://github.com/meisaputri21/Indonesian-Twitter-Emotion-Dataset \n"
   ]
  },
  {
   "cell_type": "markdown",
   "metadata": {},
   "source": [
    "# IMPORT LIBRARY"
   ]
  },
  {
   "cell_type": "code",
   "execution_count": 47,
   "metadata": {},
   "outputs": [],
   "source": [
    "import pandas as pd\n",
    "import numpy as np\n",
    "import re\n",
    "import string\n",
    "import matplotlib.pyplot as plt\n",
    "from Sastrawi.StopWordRemover.StopWordRemoverFactory import StopWordRemoverFactory\n",
    "from sklearn.preprocessing import LabelEncoder\n",
    "from sklearn.model_selection import train_test_split\n",
    "from sklearn.feature_extraction.text import CountVectorizer, TfidfTransformer\n",
    "from sklearn.metrics import classification_report, confusion_matrix, accuracy_score\n",
    "from Sastrawi.Stemmer.StemmerFactory import StemmerFactory"
   ]
  },
  {
   "cell_type": "markdown",
   "metadata": {},
   "source": [
    "# DATA ACQUISITION"
   ]
  },
  {
   "cell_type": "code",
   "execution_count": 48,
   "metadata": {},
   "outputs": [],
   "source": [
    "pd.options.display.max_colwidth = 500"
   ]
  },
  {
   "cell_type": "code",
   "execution_count": 49,
   "metadata": {},
   "outputs": [
    {
     "data": {
      "text/html": [
       "<div>\n",
       "<style scoped>\n",
       "    .dataframe tbody tr th:only-of-type {\n",
       "        vertical-align: middle;\n",
       "    }\n",
       "\n",
       "    .dataframe tbody tr th {\n",
       "        vertical-align: top;\n",
       "    }\n",
       "\n",
       "    .dataframe thead th {\n",
       "        text-align: right;\n",
       "    }\n",
       "</style>\n",
       "<table border=\"1\" class=\"dataframe\">\n",
       "  <thead>\n",
       "    <tr style=\"text-align: right;\">\n",
       "      <th></th>\n",
       "      <th>label</th>\n",
       "      <th>tweet</th>\n",
       "    </tr>\n",
       "  </thead>\n",
       "  <tbody>\n",
       "    <tr>\n",
       "      <th>0</th>\n",
       "      <td>anger</td>\n",
       "      <td>Soal jln Jatibaru,polisi tdk bs GERTAK gubernur .Emangny polisi tdk ikut pmbhasan? Jgn berpolitik. Pengaturan wilayah,hak gubernur. Persoalan Tn Abang soal turun temurun.Pelik.Perlu kesabaran. [USERNAME] [USERNAME] [URL]</td>\n",
       "    </tr>\n",
       "    <tr>\n",
       "      <th>1</th>\n",
       "      <td>anger</td>\n",
       "      <td>Sesama cewe lho (kayaknya), harusnya bisa lebih rasain lah yang harus sibuk jaga diri, rasain sakitnya haid, dan paniknya pulang malem sendirian. Gimana orang asing? Wajarlah banyak korban yang takut curhat, bukan dibela malah dihujat.</td>\n",
       "    </tr>\n",
       "    <tr>\n",
       "      <th>2</th>\n",
       "      <td>happy</td>\n",
       "      <td>Kepingin gudeg mbarek Bu hj. Amad Foto dari google, sengaja, biar teman-teman jg membayangkannya. Berbagi itu indah.</td>\n",
       "    </tr>\n",
       "    <tr>\n",
       "      <th>3</th>\n",
       "      <td>anger</td>\n",
       "      <td>Jln Jatibaru,bagian dari wilayah Tn Abang.Pengaturan wilayah tgg jwb dan wwnang gub.Tng Abng soal rumit,sejak gub2 , trdahulu.Skrg sedng dibenahi,agr bermnfaat semua pihak.Mohon yg punya otak,berpikirlah dgn wajar,kecuali otaknya butek.Ya kamu. [URL]</td>\n",
       "    </tr>\n",
       "    <tr>\n",
       "      <th>4</th>\n",
       "      <td>happy</td>\n",
       "      <td>Sharing pengalaman aja, kemarin jam 18.00 batalin tiket di stasiun pasar senen, lancar, antrian tidak terlalu rame,15 menitan dan beress semua! Mungkin bisa dicoba twips, di jam-jam segitu  cc [USERNAME]</td>\n",
       "    </tr>\n",
       "    <tr>\n",
       "      <th>5</th>\n",
       "      <td>anger</td>\n",
       "      <td>Dari sekian banyak thread yang aku baca, thread ini paling aneh sih dalam penulisan. Sumpah aneh bgt, mau ngatain \"lebay\" aja segala bikin thread hadeh. Aku juga ga jago nulis, tapi tulisan aku ga seberantakan thread mbaknya.</td>\n",
       "    </tr>\n",
       "    <tr>\n",
       "      <th>6</th>\n",
       "      <td>happy</td>\n",
       "      <td>Sharing sama temen tuh emg guna bgt. Disaat lu ngerasa masalah lu berat bgt ternyata temen kita sendiri punya masalah lebih berat dr kita. Malah masalah kita ngga ada apa2nya dibanding masalah dia.</td>\n",
       "    </tr>\n",
       "    <tr>\n",
       "      <th>7</th>\n",
       "      <td>sadness</td>\n",
       "      <td>Orang lain kalau pake ponco itu buat jas hujan, nah dia pake buat kasur. Ya tadi gara2 saking gak punya apa2. Mamak bilang, kami tuh di awal pernikan gak ada ngalamin bulan madu kayak skrg2. Org tidur nya aja pake ponco. Gimane mau bulan madu.</td>\n",
       "    </tr>\n",
       "    <tr>\n",
       "      <th>8</th>\n",
       "      <td>anger</td>\n",
       "      <td>Contoh mereka yg gemar menyudutkan, teriak paling toleran tp gemar menuduh, gemar men-judge seseorang berdasarkan versi mereka. Cukup tau saja.</td>\n",
       "    </tr>\n",
       "    <tr>\n",
       "      <th>9</th>\n",
       "      <td>sadness</td>\n",
       "      <td>Pulang udah H-4 lebaran dilema sekali. Seperti tidak bisa melakukan apa2 dirumah sebelum lebaran. Buka puasa bareng cuman 3 hari sama keluarga begitu juga sahur.</td>\n",
       "    </tr>\n",
       "  </tbody>\n",
       "</table>\n",
       "</div>"
      ],
      "text/plain": [
       "     label  \\\n",
       "0    anger   \n",
       "1    anger   \n",
       "2    happy   \n",
       "3    anger   \n",
       "4    happy   \n",
       "5    anger   \n",
       "6    happy   \n",
       "7  sadness   \n",
       "8    anger   \n",
       "9  sadness   \n",
       "\n",
       "                                                                                                                                                                                                                                                        tweet  \n",
       "0                                Soal jln Jatibaru,polisi tdk bs GERTAK gubernur .Emangny polisi tdk ikut pmbhasan? Jgn berpolitik. Pengaturan wilayah,hak gubernur. Persoalan Tn Abang soal turun temurun.Pelik.Perlu kesabaran. [USERNAME] [USERNAME] [URL]  \n",
       "1                 Sesama cewe lho (kayaknya), harusnya bisa lebih rasain lah yang harus sibuk jaga diri, rasain sakitnya haid, dan paniknya pulang malem sendirian. Gimana orang asing? Wajarlah banyak korban yang takut curhat, bukan dibela malah dihujat.  \n",
       "2                                                                                                                                        Kepingin gudeg mbarek Bu hj. Amad Foto dari google, sengaja, biar teman-teman jg membayangkannya. Berbagi itu indah.  \n",
       "3  Jln Jatibaru,bagian dari wilayah Tn Abang.Pengaturan wilayah tgg jwb dan wwnang gub.Tng Abng soal rumit,sejak gub2 , trdahulu.Skrg sedng dibenahi,agr bermnfaat semua pihak.Mohon yg punya otak,berpikirlah dgn wajar,kecuali otaknya butek.Ya kamu. [URL]  \n",
       "4                                                 Sharing pengalaman aja, kemarin jam 18.00 batalin tiket di stasiun pasar senen, lancar, antrian tidak terlalu rame,15 menitan dan beress semua! Mungkin bisa dicoba twips, di jam-jam segitu  cc [USERNAME]  \n",
       "5                           Dari sekian banyak thread yang aku baca, thread ini paling aneh sih dalam penulisan. Sumpah aneh bgt, mau ngatain \"lebay\" aja segala bikin thread hadeh. Aku juga ga jago nulis, tapi tulisan aku ga seberantakan thread mbaknya.  \n",
       "6                                                       Sharing sama temen tuh emg guna bgt. Disaat lu ngerasa masalah lu berat bgt ternyata temen kita sendiri punya masalah lebih berat dr kita. Malah masalah kita ngga ada apa2nya dibanding masalah dia.  \n",
       "7         Orang lain kalau pake ponco itu buat jas hujan, nah dia pake buat kasur. Ya tadi gara2 saking gak punya apa2. Mamak bilang, kami tuh di awal pernikan gak ada ngalamin bulan madu kayak skrg2. Org tidur nya aja pake ponco. Gimane mau bulan madu.  \n",
       "8                                                                                                             Contoh mereka yg gemar menyudutkan, teriak paling toleran tp gemar menuduh, gemar men-judge seseorang berdasarkan versi mereka. Cukup tau saja.  \n",
       "9                                                                                           Pulang udah H-4 lebaran dilema sekali. Seperti tidak bisa melakukan apa2 dirumah sebelum lebaran. Buka puasa bareng cuman 3 hari sama keluarga begitu juga sahur.  "
      ]
     },
     "execution_count": 49,
     "metadata": {},
     "output_type": "execute_result"
    }
   ],
   "source": [
    "df = pd.read_csv('Twitter_Emotion_Dataset.csv')\n",
    "df.head(10)"
   ]
  },
  {
   "cell_type": "code",
   "execution_count": 50,
   "metadata": {},
   "outputs": [
    {
     "name": "stdout",
     "output_type": "stream",
     "text": [
      "<class 'pandas.core.frame.DataFrame'>\n",
      "RangeIndex: 4401 entries, 0 to 4400\n",
      "Data columns (total 2 columns):\n",
      " #   Column  Non-Null Count  Dtype \n",
      "---  ------  --------------  ----- \n",
      " 0   label   4401 non-null   object\n",
      " 1   tweet   4401 non-null   object\n",
      "dtypes: object(2)\n",
      "memory usage: 68.9+ KB\n"
     ]
    }
   ],
   "source": [
    "df.info()"
   ]
  },
  {
   "cell_type": "code",
   "execution_count": 51,
   "metadata": {
    "scrolled": true
   },
   "outputs": [
    {
     "data": {
      "text/plain": [
       "label\n",
       "anger      1101\n",
       "happy      1017\n",
       "sadness     997\n",
       "fear        649\n",
       "love        637\n",
       "Name: count, dtype: int64"
      ]
     },
     "execution_count": 51,
     "metadata": {},
     "output_type": "execute_result"
    }
   ],
   "source": [
    "# Data is imbalance, there is difference count in each label\n",
    "df['label'].value_counts()"
   ]
  },
  {
   "cell_type": "code",
   "execution_count": 52,
   "metadata": {},
   "outputs": [
    {
     "data": {
      "image/png": "[encoded data removed]",
      "text/plain": [
       "<Figure size 800x480 with 1 Axes>"
      ]
     },
     "metadata": {},
     "output_type": "display_data"
    }
   ],
   "source": [
    "# Hitung jumlah setiap label\n",
    "height = df['label'].value_counts()\n",
    "\n",
    "# Buat labels dari indeks height\n",
    "labels = height.index\n",
    "\n",
    "# Posisi y untuk setiap label\n",
    "y_pos = np.arange(len(labels))\n",
    "\n",
    "# Membuat plot\n",
    "plt.figure(figsize=(10, 6), dpi=80)\n",
    "plt.ylim(0, max(height) + 100)\n",
    "plt.title('Data Emosi', fontweight='bold')\n",
    "plt.xlabel('Twitter Emotion', fontweight='bold')\n",
    "plt.ylabel('Jumlah', fontweight='bold')\n",
    "plt.bar(y_pos, height, color=['deepskyblue', 'green', 'red', 'purple', 'orange'])\n",
    "plt.xticks(y_pos, labels)\n",
    "plt.show()"
   ]
  },
  {
   "cell_type": "markdown",
   "metadata": {},
   "source": [
    "Label Encoding"
   ]
  },
  {
   "cell_type": "code",
   "execution_count": 53,
   "metadata": {},
   "outputs": [],
   "source": [
    "le = LabelEncoder()\n",
    "df['label_id'] = le.fit_transform(df['label'])"
   ]
  },
  {
   "cell_type": "code",
   "execution_count": 54,
   "metadata": {},
   "outputs": [
    {
     "data": {
      "text/html": [
       "<div>\n",
       "<style scoped>\n",
       "    .dataframe tbody tr th:only-of-type {\n",
       "        vertical-align: middle;\n",
       "    }\n",
       "\n",
       "    .dataframe tbody tr th {\n",
       "        vertical-align: top;\n",
       "    }\n",
       "\n",
       "    .dataframe thead th {\n",
       "        text-align: right;\n",
       "    }\n",
       "</style>\n",
       "<table border=\"1\" class=\"dataframe\">\n",
       "  <thead>\n",
       "    <tr style=\"text-align: right;\">\n",
       "      <th></th>\n",
       "      <th>label</th>\n",
       "      <th>tweet</th>\n",
       "      <th>label_id</th>\n",
       "    </tr>\n",
       "  </thead>\n",
       "  <tbody>\n",
       "    <tr>\n",
       "      <th>0</th>\n",
       "      <td>anger</td>\n",
       "      <td>Soal jln Jatibaru,polisi tdk bs GERTAK gubernur .Emangny polisi tdk ikut pmbhasan? Jgn berpolitik. Pengaturan wilayah,hak gubernur. Persoalan Tn Abang soal turun temurun.Pelik.Perlu kesabaran. [USERNAME] [USERNAME] [URL]</td>\n",
       "      <td>0</td>\n",
       "    </tr>\n",
       "    <tr>\n",
       "      <th>1</th>\n",
       "      <td>anger</td>\n",
       "      <td>Sesama cewe lho (kayaknya), harusnya bisa lebih rasain lah yang harus sibuk jaga diri, rasain sakitnya haid, dan paniknya pulang malem sendirian. Gimana orang asing? Wajarlah banyak korban yang takut curhat, bukan dibela malah dihujat.</td>\n",
       "      <td>0</td>\n",
       "    </tr>\n",
       "    <tr>\n",
       "      <th>2</th>\n",
       "      <td>happy</td>\n",
       "      <td>Kepingin gudeg mbarek Bu hj. Amad Foto dari google, sengaja, biar teman-teman jg membayangkannya. Berbagi itu indah.</td>\n",
       "      <td>2</td>\n",
       "    </tr>\n",
       "    <tr>\n",
       "      <th>3</th>\n",
       "      <td>anger</td>\n",
       "      <td>Jln Jatibaru,bagian dari wilayah Tn Abang.Pengaturan wilayah tgg jwb dan wwnang gub.Tng Abng soal rumit,sejak gub2 , trdahulu.Skrg sedng dibenahi,agr bermnfaat semua pihak.Mohon yg punya otak,berpikirlah dgn wajar,kecuali otaknya butek.Ya kamu. [URL]</td>\n",
       "      <td>0</td>\n",
       "    </tr>\n",
       "    <tr>\n",
       "      <th>4</th>\n",
       "      <td>happy</td>\n",
       "      <td>Sharing pengalaman aja, kemarin jam 18.00 batalin tiket di stasiun pasar senen, lancar, antrian tidak terlalu rame,15 menitan dan beress semua! Mungkin bisa dicoba twips, di jam-jam segitu  cc [USERNAME]</td>\n",
       "      <td>2</td>\n",
       "    </tr>\n",
       "    <tr>\n",
       "      <th>...</th>\n",
       "      <td>...</td>\n",
       "      <td>...</td>\n",
       "      <td>...</td>\n",
       "    </tr>\n",
       "    <tr>\n",
       "      <th>4396</th>\n",
       "      <td>love</td>\n",
       "      <td>Tahukah kamu, bahwa saat itu papa memejamkan matanya dan menahan gejolak dan batinnya. Bahwa papa sangat ingin mengikuti keinginanmu tapu lagi-lagi dia HARUS menjagamu?</td>\n",
       "      <td>3</td>\n",
       "    </tr>\n",
       "    <tr>\n",
       "      <th>4397</th>\n",
       "      <td>fear</td>\n",
       "      <td>Sulitnya menetapkan Calon Wapresnya Jokowi di Pilpres 2019 salah satunya disebabkan gemuknya partai koalisi yang mengusung petahana. Sehingga sikap kehati-hatian agar tidak ada yang terluka dari partai pengusung harus tetap dijaga #Pilpres2019 #Pilpres #Jokowi #Parpol</td>\n",
       "      <td>1</td>\n",
       "    </tr>\n",
       "    <tr>\n",
       "      <th>4398</th>\n",
       "      <td>anger</td>\n",
       "      <td>5. masa depannya nggak jelas. lha iya, gimana mau jelas coba? lulusan seni, bisanya cuma nari, mau kerja apa? nari-nari doang. berapa sih, penghasilannya penari? kerja juga gak tetap~ #dontdateadancer</td>\n",
       "      <td>0</td>\n",
       "    </tr>\n",
       "    <tr>\n",
       "      <th>4399</th>\n",
       "      <td>happy</td>\n",
       "      <td>[USERNAME] dulu beneran ada mahasiswa Teknik UI nembak pacarnya pas sahur di Kukusan Teknik Depok, diliput kru Katakan Cinta (dan belum pacaran mereka). Sekarang udah nikah dan punya anak. Pernah diceritain laman UI Shitposting/Divarposting juga.</td>\n",
       "      <td>2</td>\n",
       "    </tr>\n",
       "    <tr>\n",
       "      <th>4400</th>\n",
       "      <td>sadness</td>\n",
       "      <td>Ya Allah, hanya Engkau yang mengetahui rasa sakit di hati ini. Sembuhkanlah Ya Allah..</td>\n",
       "      <td>4</td>\n",
       "    </tr>\n",
       "  </tbody>\n",
       "</table>\n",
       "<p>4401 rows × 3 columns</p>\n",
       "</div>"
      ],
      "text/plain": [
       "        label  \\\n",
       "0       anger   \n",
       "1       anger   \n",
       "2       happy   \n",
       "3       anger   \n",
       "4       happy   \n",
       "...       ...   \n",
       "4396     love   \n",
       "4397     fear   \n",
       "4398    anger   \n",
       "4399    happy   \n",
       "4400  sadness   \n",
       "\n",
       "                                                                                                                                                                                                                                                                             tweet  \\\n",
       "0                                                     Soal jln Jatibaru,polisi tdk bs GERTAK gubernur .Emangny polisi tdk ikut pmbhasan? Jgn berpolitik. Pengaturan wilayah,hak gubernur. Persoalan Tn Abang soal turun temurun.Pelik.Perlu kesabaran. [USERNAME] [USERNAME] [URL]   \n",
       "1                                      Sesama cewe lho (kayaknya), harusnya bisa lebih rasain lah yang harus sibuk jaga diri, rasain sakitnya haid, dan paniknya pulang malem sendirian. Gimana orang asing? Wajarlah banyak korban yang takut curhat, bukan dibela malah dihujat.   \n",
       "2                                                                                                                                                             Kepingin gudeg mbarek Bu hj. Amad Foto dari google, sengaja, biar teman-teman jg membayangkannya. Berbagi itu indah.   \n",
       "3                       Jln Jatibaru,bagian dari wilayah Tn Abang.Pengaturan wilayah tgg jwb dan wwnang gub.Tng Abng soal rumit,sejak gub2 , trdahulu.Skrg sedng dibenahi,agr bermnfaat semua pihak.Mohon yg punya otak,berpikirlah dgn wajar,kecuali otaknya butek.Ya kamu. [URL]   \n",
       "4                                                                      Sharing pengalaman aja, kemarin jam 18.00 batalin tiket di stasiun pasar senen, lancar, antrian tidak terlalu rame,15 menitan dan beress semua! Mungkin bisa dicoba twips, di jam-jam segitu  cc [USERNAME]   \n",
       "...                                                                                                                                                                                                                                                                            ...   \n",
       "4396                                                                                                      Tahukah kamu, bahwa saat itu papa memejamkan matanya dan menahan gejolak dan batinnya. Bahwa papa sangat ingin mengikuti keinginanmu tapu lagi-lagi dia HARUS menjagamu?   \n",
       "4397  Sulitnya menetapkan Calon Wapresnya Jokowi di Pilpres 2019 salah satunya disebabkan gemuknya partai koalisi yang mengusung petahana. Sehingga sikap kehati-hatian agar tidak ada yang terluka dari partai pengusung harus tetap dijaga #Pilpres2019 #Pilpres #Jokowi #Parpol   \n",
       "4398                                                                      5. masa depannya nggak jelas. lha iya, gimana mau jelas coba? lulusan seni, bisanya cuma nari, mau kerja apa? nari-nari doang. berapa sih, penghasilannya penari? kerja juga gak tetap~ #dontdateadancer   \n",
       "4399                        [USERNAME] dulu beneran ada mahasiswa Teknik UI nembak pacarnya pas sahur di Kukusan Teknik Depok, diliput kru Katakan Cinta (dan belum pacaran mereka). Sekarang udah nikah dan punya anak. Pernah diceritain laman UI Shitposting/Divarposting juga.   \n",
       "4400                                                                                                                                                                                        Ya Allah, hanya Engkau yang mengetahui rasa sakit di hati ini. Sembuhkanlah Ya Allah..   \n",
       "\n",
       "      label_id  \n",
       "0            0  \n",
       "1            0  \n",
       "2            2  \n",
       "3            0  \n",
       "4            2  \n",
       "...        ...  \n",
       "4396         3  \n",
       "4397         1  \n",
       "4398         0  \n",
       "4399         2  \n",
       "4400         4  \n",
       "\n",
       "[4401 rows x 3 columns]"
      ]
     },
     "execution_count": 54,
     "metadata": {},
     "output_type": "execute_result"
    }
   ],
   "source": [
    "df"
   ]
  },
  {
   "cell_type": "markdown",
   "metadata": {},
   "source": [
    "#  TEXT PREPROCESSING"
   ]
  },
  {
   "cell_type": "code",
   "execution_count": 63,
   "metadata": {},
   "outputs": [],
   "source": [
    "def cleaning(x):\n",
    "    x = x.strip()\n",
    "    x = x.lower()\n",
    "    x = re.sub(r'\\d+','',x)\n",
    "    x = x.translate(str.maketrans('','', string.punctuation))\n",
    "    stopword = StopWordRemoverFactory().create_stop_word_remover()\n",
    "    x = stopword.remove(x)\n",
    "    return x"
   ]
  },
  {
   "cell_type": "code",
   "execution_count": 64,
   "metadata": {},
   "outputs": [],
   "source": [
    "df['tweet'] = df['tweet'].apply(lambda x: cleaning(x))"
   ]
  },
  {
   "cell_type": "code",
   "execution_count": 61,
   "metadata": {},
   "outputs": [
    {
     "data": {
      "text/html": [
       "<div>\n",
       "<style scoped>\n",
       "    .dataframe tbody tr th:only-of-type {\n",
       "        vertical-align: middle;\n",
       "    }\n",
       "\n",
       "    .dataframe tbody tr th {\n",
       "        vertical-align: top;\n",
       "    }\n",
       "\n",
       "    .dataframe thead th {\n",
       "        text-align: right;\n",
       "    }\n",
       "</style>\n",
       "<table border=\"1\" class=\"dataframe\">\n",
       "  <thead>\n",
       "    <tr style=\"text-align: right;\">\n",
       "      <th></th>\n",
       "      <th>label</th>\n",
       "      <th>tweet</th>\n",
       "      <th>label_id</th>\n",
       "      <th>stemmed</th>\n",
       "    </tr>\n",
       "  </thead>\n",
       "  <tbody>\n",
       "    <tr>\n",
       "      <th>0</th>\n",
       "      <td>anger</td>\n",
       "      <td>soal jln jatibarupolisi tdk bs gertak gubernur emangny polisi tdk ikut pmbhasan jgn berpolitik pengaturan wilayahhak gubernur persoalan tn abang soal turun temurunpelikperlu kesabaran username username url</td>\n",
       "      <td>0</td>\n",
       "      <td>s o a l  j l n  j a t i b a r u p o l i s i  t d k  b s  g e r t a k  g u b e r n u r  e m a n g n y  p o l i s i  t d k  i k u t  p m b h a s a n  j g n  b e r p o l i t i k  p e n g a t u r a n  w i l a y a h h a k  g u b e r n u r  p e r s o a l a n  t n  a b a n g  s o a l  t u r u n  t e m u r u n p e l i k p e r l u  k e s a b a r a n  u s e r n a m e  u s e r n a m e  u r l</td>\n",
       "    </tr>\n",
       "    <tr>\n",
       "      <th>1</th>\n",
       "      <td>anger</td>\n",
       "      <td>sesama cewe lho kayaknya harusnya lebih rasain lah harus sibuk jaga diri rasain sakitnya haid paniknya pulang malem sendirian gimana orang asing wajarlah banyak korban takut curhat bukan dibela malah dihujat</td>\n",
       "      <td>0</td>\n",
       "      <td>s e s a m a  c e w e  l h o  k a y a k n y a  h a r u s n y a  l e b i h  r a s a i n  l a h  h a r u s  s i b u k  j a g a  d i r i  r a s a i n  s a k i t n y a  h a i d  p a n i k n y a  p u l a n g  m a l e m  s e n d i r i a n  g i m a n a  o r a n g  a s i n g  w a j a r l a h  b a n y a k  k o r b a n  t a k u t  c u r h a t  b u k a n  d i b e l a  m a l a h  d i h u j a t</td>\n",
       "    </tr>\n",
       "    <tr>\n",
       "      <th>2</th>\n",
       "      <td>happy</td>\n",
       "      <td>kepingin gudeg mbarek bu hj amad foto google sengaja biar temanteman jg membayangkannya berbagi indah</td>\n",
       "      <td>2</td>\n",
       "      <td>k e p i n g i n  g u d e g  m b a r e k  b u  h j  a m a d  f o t o  g o o g l e  s e n g a j a  b i a r  t e m a n t e m a n  j g  m e m b a y a n g k a n n y a  b e r b a g i  i n d a h</td>\n",
       "    </tr>\n",
       "    <tr>\n",
       "      <th>3</th>\n",
       "      <td>anger</td>\n",
       "      <td>jln jatibarubagian wilayah tn abangpengaturan wilayah tgg jwb wwnang gubtng abng soal rumitsejak gub  trdahuluskrg sedng dibenahiagr bermnfaat semua pihakmohon yg punya otakberpikirlah dgn wajarkecuali otaknya butekya kamu url</td>\n",
       "      <td>0</td>\n",
       "      <td>j l n  j a t i b a r u b a g i a n  w i l a y a h  t n  a b a n g p e n g a t u r a n  w i l a y a h  t g g  j w b  w w n a n g  g u b t n g  a b n g  s o a l  r u m i t s e j a k  g u b   t r d a h u l u s k r g  s e d n g  d i b e n a h i a g r  b e r m n f a a t  s e m u a  p i h a k m o h o n  y g  p u n y a  o t a k b e r p i k i r l a h  d g n  w a j a r k e c u a l i  o t a k n y a  b u t e k y a  k a m u  u r l</td>\n",
       "    </tr>\n",
       "    <tr>\n",
       "      <th>4</th>\n",
       "      <td>happy</td>\n",
       "      <td>sharing pengalaman aja kemarin jam  batalin tiket stasiun pasar senen lancar antrian terlalu rame menitan beress semua mungkin dicoba twips jamjam segitu  cc username</td>\n",
       "      <td>2</td>\n",
       "      <td>s h a r i n g  p e n g a l a m a n  a j a  k e m a r i n  j a m   b a t a l i n  t i k e t  s t a s i u n  p a s a r  s e n e n  l a n c a r  a n t r i a n  t e r l a l u  r a m e  m e n i t a n  b e r e s s  s e m u a  m u n g k i n  d i c o b a  t w i p s  j a m j a m  s e g i t u   c c  u s e r n a m e</td>\n",
       "    </tr>\n",
       "    <tr>\n",
       "      <th>...</th>\n",
       "      <td>...</td>\n",
       "      <td>...</td>\n",
       "      <td>...</td>\n",
       "      <td>...</td>\n",
       "    </tr>\n",
       "    <tr>\n",
       "      <th>4396</th>\n",
       "      <td>love</td>\n",
       "      <td>tahukah kamu saat papa memejamkan matanya menahan gejolak batinnya papa sangat mengikuti keinginanmu tapu lagilagi harus menjagamu</td>\n",
       "      <td>3</td>\n",
       "      <td>t a h u k a h  k a m u  s a a t  p a p a  m e m e j a m k a n  m a t a n y a  m e n a h a n  g e j o l a k  b a t i n n y a  p a p a  s a n g a t  m e n g i k u t i  k e i n g i n a n m u  t a p u  l a g i l a g i  h a r u s  m e n j a g a m u</td>\n",
       "    </tr>\n",
       "    <tr>\n",
       "      <th>4397</th>\n",
       "      <td>fear</td>\n",
       "      <td>sulitnya menetapkan calon wapresnya jokowi pilpres  salah satunya disebabkan gemuknya partai koalisi mengusung petahana sikap kehatihatian tidak yang terluka partai pengusung tetap dijaga pilpres pilpres jokowi parpol</td>\n",
       "      <td>1</td>\n",
       "      <td>s u l i t n y a  m e n e t a p k a n  c a l o n  w a p r e s n y a  j o k o w i  p i l p r e s   s a l a h  s a t u n y a  d i s e b a b k a n  g e m u k n y a  p a r t a i  k o a l i s i  m e n g u s u n g  p e t a h a n a  s i k a p  k e h a t i h a t i a n  t i d a k  y a n g  t e r l u k a  p a r t a i  p e n g u s u n g  t e t a p  d i j a g a  p i l p r e s  p i l p r e s  j o k o w i  p a r p o l</td>\n",
       "    </tr>\n",
       "    <tr>\n",
       "      <th>4398</th>\n",
       "      <td>anger</td>\n",
       "      <td>masa depannya jelas lha iya gimana mau jelas coba lulusan seni bisanya cuma nari mau kerja apa narinari doang berapa sih penghasilannya penari kerja gak tetap dontdateadancer</td>\n",
       "      <td>0</td>\n",
       "      <td>m a s a  d e p a n n y a  j e l a s  l h a  i y a  g i m a n a  m a u  j e l a s  c o b a  l u l u s a n  s e n i  b i s a n y a  c u m a  n a r i  m a u  k e r j a  a p a  n a r i n a r i  d o a n g  b e r a p a  s i h  p e n g h a s i l a n n y a  p e n a r i  k e r j a  g a k  t e t a p  d o n t d a t e a d a n c e r</td>\n",
       "    </tr>\n",
       "    <tr>\n",
       "      <th>4399</th>\n",
       "      <td>happy</td>\n",
       "      <td>username dulu beneran mahasiswa teknik ui nembak pacarnya pas sahur kukusan teknik depok diliput kru katakan cinta belum pacaran sekarang udah nikah punya anak pernah diceritain laman ui shitpostingdivarposting</td>\n",
       "      <td>2</td>\n",
       "      <td>u s e r n a m e  d u l u  b e n e r a n  m a h a s i s w a  t e k n i k  u i  n e m b a k  p a c a r n y a  p a s  s a h u r  k u k u s a n  t e k n i k  d e p o k  d i l i p u t  k r u  k a t a k a n  c i n t a  b e l u m  p a c a r a n  s e k a r a n g  u d a h  n i k a h  p u n y a  a n a k  p e r n a h  d i c e r i t a i n  l a m a n  u i  s h i t p o s t i n g d i v a r p o s t i n g</td>\n",
       "    </tr>\n",
       "    <tr>\n",
       "      <th>4400</th>\n",
       "      <td>sadness</td>\n",
       "      <td>allah engkau mengetahui rasa sakit hati sembuhkanlah allah</td>\n",
       "      <td>4</td>\n",
       "      <td>a l l a h  e n g k a u  m e n g e t a h u i  r a s a  s a k i t  h a t i  s e m b u h k a n l a h  a l l a h</td>\n",
       "    </tr>\n",
       "  </tbody>\n",
       "</table>\n",
       "<p>4401 rows × 4 columns</p>\n",
       "</div>"
      ],
      "text/plain": [
       "        label  \\\n",
       "0       anger   \n",
       "1       anger   \n",
       "2       happy   \n",
       "3       anger   \n",
       "4       happy   \n",
       "...       ...   \n",
       "4396     love   \n",
       "4397     fear   \n",
       "4398    anger   \n",
       "4399    happy   \n",
       "4400  sadness   \n",
       "\n",
       "                                                                                                                                                                                                                                   tweet  \\\n",
       "0                          soal jln jatibarupolisi tdk bs gertak gubernur emangny polisi tdk ikut pmbhasan jgn berpolitik pengaturan wilayahhak gubernur persoalan tn abang soal turun temurunpelikperlu kesabaran username username url   \n",
       "1                        sesama cewe lho kayaknya harusnya lebih rasain lah harus sibuk jaga diri rasain sakitnya haid paniknya pulang malem sendirian gimana orang asing wajarlah banyak korban takut curhat bukan dibela malah dihujat   \n",
       "2                                                                                                                                  kepingin gudeg mbarek bu hj amad foto google sengaja biar temanteman jg membayangkannya berbagi indah   \n",
       "3     jln jatibarubagian wilayah tn abangpengaturan wilayah tgg jwb wwnang gubtng abng soal rumitsejak gub  trdahuluskrg sedng dibenahiagr bermnfaat semua pihakmohon yg punya otakberpikirlah dgn wajarkecuali otaknya butekya kamu url   \n",
       "4                                                                 sharing pengalaman aja kemarin jam  batalin tiket stasiun pasar senen lancar antrian terlalu rame menitan beress semua mungkin dicoba twips jamjam segitu  cc username   \n",
       "...                                                                                                                                                                                                                                  ...   \n",
       "4396                                                                                                  tahukah kamu saat papa memejamkan matanya menahan gejolak batinnya papa sangat mengikuti keinginanmu tapu lagilagi harus menjagamu   \n",
       "4397           sulitnya menetapkan calon wapresnya jokowi pilpres  salah satunya disebabkan gemuknya partai koalisi mengusung petahana sikap kehatihatian tidak yang terluka partai pengusung tetap dijaga pilpres pilpres jokowi parpol   \n",
       "4398                                                      masa depannya jelas lha iya gimana mau jelas coba lulusan seni bisanya cuma nari mau kerja apa narinari doang berapa sih penghasilannya penari kerja gak tetap dontdateadancer   \n",
       "4399                  username dulu beneran mahasiswa teknik ui nembak pacarnya pas sahur kukusan teknik depok diliput kru katakan cinta belum pacaran sekarang udah nikah punya anak pernah diceritain laman ui shitpostingdivarposting   \n",
       "4400                                                                                                                                                                          allah engkau mengetahui rasa sakit hati sembuhkanlah allah   \n",
       "\n",
       "      label_id  \\\n",
       "0            0   \n",
       "1            0   \n",
       "2            2   \n",
       "3            0   \n",
       "4            2   \n",
       "...        ...   \n",
       "4396         3   \n",
       "4397         1   \n",
       "4398         0   \n",
       "4399         2   \n",
       "4400         4   \n",
       "\n",
       "                                                                                                                                                                                                                                                                                                                                                                                                                                     stemmed  \n",
       "0                                            s o a l  j l n  j a t i b a r u p o l i s i  t d k  b s  g e r t a k  g u b e r n u r  e m a n g n y  p o l i s i  t d k  i k u t  p m b h a s a n  j g n  b e r p o l i t i k  p e n g a t u r a n  w i l a y a h h a k  g u b e r n u r  p e r s o a l a n  t n  a b a n g  s o a l  t u r u n  t e m u r u n p e l i k p e r l u  k e s a b a r a n  u s e r n a m e  u s e r n a m e  u r l  \n",
       "1                                            s e s a m a  c e w e  l h o  k a y a k n y a  h a r u s n y a  l e b i h  r a s a i n  l a h  h a r u s  s i b u k  j a g a  d i r i  r a s a i n  s a k i t n y a  h a i d  p a n i k n y a  p u l a n g  m a l e m  s e n d i r i a n  g i m a n a  o r a n g  a s i n g  w a j a r l a h  b a n y a k  k o r b a n  t a k u t  c u r h a t  b u k a n  d i b e l a  m a l a h  d i h u j a t  \n",
       "2                                                                                                                                                                                                                                                k e p i n g i n  g u d e g  m b a r e k  b u  h j  a m a d  f o t o  g o o g l e  s e n g a j a  b i a r  t e m a n t e m a n  j g  m e m b a y a n g k a n n y a  b e r b a g i  i n d a h  \n",
       "3     j l n  j a t i b a r u b a g i a n  w i l a y a h  t n  a b a n g p e n g a t u r a n  w i l a y a h  t g g  j w b  w w n a n g  g u b t n g  a b n g  s o a l  r u m i t s e j a k  g u b   t r d a h u l u s k r g  s e d n g  d i b e n a h i a g r  b e r m n f a a t  s e m u a  p i h a k m o h o n  y g  p u n y a  o t a k b e r p i k i r l a h  d g n  w a j a r k e c u a l i  o t a k n y a  b u t e k y a  k a m u  u r l  \n",
       "4                                                                                                                         s h a r i n g  p e n g a l a m a n  a j a  k e m a r i n  j a m   b a t a l i n  t i k e t  s t a s i u n  p a s a r  s e n e n  l a n c a r  a n t r i a n  t e r l a l u  r a m e  m e n i t a n  b e r e s s  s e m u a  m u n g k i n  d i c o b a  t w i p s  j a m j a m  s e g i t u   c c  u s e r n a m e  \n",
       "...                                                                                                                                                                                                                                                                                                                                                                                                                                      ...  \n",
       "4396                                                                                                                                                                                     t a h u k a h  k a m u  s a a t  p a p a  m e m e j a m k a n  m a t a n y a  m e n a h a n  g e j o l a k  b a t i n n y a  p a p a  s a n g a t  m e n g i k u t i  k e i n g i n a n m u  t a p u  l a g i l a g i  h a r u s  m e n j a g a m u  \n",
       "4397                  s u l i t n y a  m e n e t a p k a n  c a l o n  w a p r e s n y a  j o k o w i  p i l p r e s   s a l a h  s a t u n y a  d i s e b a b k a n  g e m u k n y a  p a r t a i  k o a l i s i  m e n g u s u n g  p e t a h a n a  s i k a p  k e h a t i h a t i a n  t i d a k  y a n g  t e r l u k a  p a r t a i  p e n g u s u n g  t e t a p  d i j a g a  p i l p r e s  p i l p r e s  j o k o w i  p a r p o l  \n",
       "4398                                                                                                       m a s a  d e p a n n y a  j e l a s  l h a  i y a  g i m a n a  m a u  j e l a s  c o b a  l u l u s a n  s e n i  b i s a n y a  c u m a  n a r i  m a u  k e r j a  a p a  n a r i n a r i  d o a n g  b e r a p a  s i h  p e n g h a s i l a n n y a  p e n a r i  k e r j a  g a k  t e t a p  d o n t d a t e a d a n c e r  \n",
       "4399                                 u s e r n a m e  d u l u  b e n e r a n  m a h a s i s w a  t e k n i k  u i  n e m b a k  p a c a r n y a  p a s  s a h u r  k u k u s a n  t e k n i k  d e p o k  d i l i p u t  k r u  k a t a k a n  c i n t a  b e l u m  p a c a r a n  s e k a r a n g  u d a h  n i k a h  p u n y a  a n a k  p e r n a h  d i c e r i t a i n  l a m a n  u i  s h i t p o s t i n g d i v a r p o s t i n g  \n",
       "4400                                                                                                                                                                                                                                                                                                                            a l l a h  e n g k a u  m e n g e t a h u i  r a s a  s a k i t  h a t i  s e m b u h k a n l a h  a l l a h  \n",
       "\n",
       "[4401 rows x 4 columns]"
      ]
     },
     "execution_count": 61,
     "metadata": {},
     "output_type": "execute_result"
    }
   ],
   "source": [
    "df"
   ]
  },
  {
   "cell_type": "code",
   "execution_count": 65,
   "metadata": {},
   "outputs": [],
   "source": [
    "factory = StemmerFactory()\n",
    "stemmer = factory.create_stemmer()\n",
    "df['stemmed'] = df['tweet'].apply(lambda x: ' '.join([stemmer.stem(word) for word in x]))"
   ]
  },
  {
   "cell_type": "markdown",
   "metadata": {},
   "source": [
    "# FEATURE ENGINEERING"
   ]
  },
  {
   "cell_type": "code",
   "execution_count": 15,
   "metadata": {},
   "outputs": [],
   "source": [
    "X = list(df['tweet'])\n",
    "y = np.array(list(df['label_id']))"
   ]
  },
  {
   "cell_type": "markdown",
   "metadata": {},
   "source": [
    "Membagi dataset menjadi data latih dan data uji"
   ]
  },
  {
   "cell_type": "code",
   "execution_count": 16,
   "metadata": {},
   "outputs": [],
   "source": [
    "X_train, X_test, y_train, y_test = train_test_split(X,y, random_state=42, test_size=0.3)"
   ]
  },
  {
   "cell_type": "markdown",
   "metadata": {},
   "source": [
    "# Naive Bayes - MultinomialNB dan ComplementNB"
   ]
  },
  {
   "cell_type": "code",
   "execution_count": 17,
   "metadata": {},
   "outputs": [],
   "source": [
    "from sklearn.naive_bayes import MultinomialNB, ComplementNB"
   ]
  },
  {
   "cell_type": "markdown",
   "metadata": {},
   "source": [
    "# Modelling : MultinomialNB"
   ]
  },
  {
   "cell_type": "markdown",
   "metadata": {},
   "source": [
    "## Data Train"
   ]
  },
  {
   "cell_type": "code",
   "execution_count": 18,
   "metadata": {},
   "outputs": [],
   "source": [
    "count_vec = CountVectorizer()\n",
    "X_train_c = count_vec.fit_transform(X_train)\n",
    "\n",
    "tfidf = TfidfTransformer()\n",
    "X_train_tfidf = tfidf.fit_transform(X_train_c)"
   ]
  },
  {
   "cell_type": "code",
   "execution_count": 19,
   "metadata": {},
   "outputs": [],
   "source": [
    "# MNB\n",
    "mnb_model = MultinomialNB().fit(X_train_tfidf,y_train)"
   ]
  },
  {
   "cell_type": "code",
   "execution_count": 20,
   "metadata": {},
   "outputs": [
    {
     "data": {
      "text/html": [
       "<style>#sk-container-id-1 {color: black;background-color: white;}#sk-container-id-1 pre{padding: 0;}#sk-container-id-1 div.sk-toggleable {background-color: white;}#sk-container-id-1 label.sk-toggleable__label {cursor: pointer;display: block;width: 100%;margin-bottom: 0;padding: 0.3em;box-sizing: border-box;text-align: center;}#sk-container-id-1 label.sk-toggleable__label-arrow:before {content: \"▸\";float: left;margin-right: 0.25em;color: #696969;}#sk-container-id-1 label.sk-toggleable__label-arrow:hover:before {color: black;}#sk-container-id-1 div.sk-estimator:hover label.sk-toggleable__label-arrow:before {color: black;}#sk-container-id-1 div.sk-toggleable__content {max-height: 0;max-width: 0;overflow: hidden;text-align: left;background-color: #f0f8ff;}#sk-container-id-1 div.sk-toggleable__content pre {margin: 0.2em;color: black;border-radius: 0.25em;background-color: #f0f8ff;}#sk-container-id-1 input.sk-toggleable__control:checked~div.sk-toggleable__content {max-height: 200px;max-width: 100%;overflow: auto;}#sk-container-id-1 input.sk-toggleable__control:checked~label.sk-toggleable__label-arrow:before {content: \"▾\";}#sk-container-id-1 div.sk-estimator input.sk-toggleable__control:checked~label.sk-toggleable__label {background-color: #d4ebff;}#sk-container-id-1 div.sk-label input.sk-toggleable__control:checked~label.sk-toggleable__label {background-color: #d4ebff;}#sk-container-id-1 input.sk-hidden--visually {border: 0;clip: rect(1px 1px 1px 1px);clip: rect(1px, 1px, 1px, 1px);height: 1px;margin: -1px;overflow: hidden;padding: 0;position: absolute;width: 1px;}#sk-container-id-1 div.sk-estimator {font-family: monospace;background-color: #f0f8ff;border: 1px dotted black;border-radius: 0.25em;box-sizing: border-box;margin-bottom: 0.5em;}#sk-container-id-1 div.sk-estimator:hover {background-color: #d4ebff;}#sk-container-id-1 div.sk-parallel-item::after {content: \"\";width: 100%;border-bottom: 1px solid gray;flex-grow: 1;}#sk-container-id-1 div.sk-label:hover label.sk-toggleable__label {background-color: #d4ebff;}#sk-container-id-1 div.sk-serial::before {content: \"\";position: absolute;border-left: 1px solid gray;box-sizing: border-box;top: 0;bottom: 0;left: 50%;z-index: 0;}#sk-container-id-1 div.sk-serial {display: flex;flex-direction: column;align-items: center;background-color: white;padding-right: 0.2em;padding-left: 0.2em;position: relative;}#sk-container-id-1 div.sk-item {position: relative;z-index: 1;}#sk-container-id-1 div.sk-parallel {display: flex;align-items: stretch;justify-content: center;background-color: white;position: relative;}#sk-container-id-1 div.sk-item::before, #sk-container-id-1 div.sk-parallel-item::before {content: \"\";position: absolute;border-left: 1px solid gray;box-sizing: border-box;top: 0;bottom: 0;left: 50%;z-index: -1;}#sk-container-id-1 div.sk-parallel-item {display: flex;flex-direction: column;z-index: 1;position: relative;background-color: white;}#sk-container-id-1 div.sk-parallel-item:first-child::after {align-self: flex-end;width: 50%;}#sk-container-id-1 div.sk-parallel-item:last-child::after {align-self: flex-start;width: 50%;}#sk-container-id-1 div.sk-parallel-item:only-child::after {width: 0;}#sk-container-id-1 div.sk-dashed-wrapped {border: 1px dashed gray;margin: 0 0.4em 0.5em 0.4em;box-sizing: border-box;padding-bottom: 0.4em;background-color: white;}#sk-container-id-1 div.sk-label label {font-family: monospace;font-weight: bold;display: inline-block;line-height: 1.2em;}#sk-container-id-1 div.sk-label-container {text-align: center;}#sk-container-id-1 div.sk-container {/* jupyter's `normalize.less` sets `[hidden] { display: none; }` but bootstrap.min.css set `[hidden] { display: none !important; }` so we also need the `!important` here to be able to override the default hidden behavior on the sphinx rendered scikit-learn.org. See: https://github.com/scikit-learn/scikit-learn/issues/21755 */display: inline-block !important;position: relative;}#sk-container-id-1 div.sk-text-repr-fallback {display: none;}</style><div id=\"sk-container-id-1\" class=\"sk-top-container\"><div class=\"sk-text-repr-fallback\"><pre>MultinomialNB()</pre><b>In a Jupyter environment, please rerun this cell to show the HTML representation or trust the notebook. <br />On GitHub, the HTML representation is unable to render, please try loading this page with nbviewer.org.</b></div><div class=\"sk-container\" hidden><div class=\"sk-item\"><div class=\"sk-estimator sk-toggleable\"><input class=\"sk-toggleable__control sk-hidden--visually\" id=\"sk-estimator-id-1\" type=\"checkbox\" checked><label for=\"sk-estimator-id-1\" class=\"sk-toggleable__label sk-toggleable__label-arrow\">MultinomialNB</label><div class=\"sk-toggleable__content\"><pre>MultinomialNB()</pre></div></div></div></div></div>"
      ],
      "text/plain": [
       "MultinomialNB()"
      ]
     },
     "execution_count": 20,
     "metadata": {},
     "output_type": "execute_result"
    }
   ],
   "source": [
    "mnb_model"
   ]
  },
  {
   "cell_type": "code",
   "execution_count": 21,
   "metadata": {},
   "outputs": [],
   "source": [
    "y_train_pred = mnb_model.predict(X_train_tfidf)"
   ]
  },
  {
   "cell_type": "code",
   "execution_count": 22,
   "metadata": {},
   "outputs": [
    {
     "name": "stdout",
     "output_type": "stream",
     "text": [
      "classification report\n",
      "              precision    recall  f1-score   support\n",
      "\n",
      "           0       0.84      0.99      0.91       751\n",
      "           1       0.99      0.71      0.83       468\n",
      "           2       0.93      0.95      0.94       710\n",
      "           3       0.99      0.75      0.85       446\n",
      "           4       0.85      0.96      0.90       705\n",
      "\n",
      "    accuracy                           0.90      3080\n",
      "   macro avg       0.92      0.87      0.89      3080\n",
      "weighted avg       0.91      0.90      0.89      3080\n",
      "\n",
      "\n",
      "\n",
      "confusion matrix\n",
      "[[743   1   2   0   5]\n",
      " [ 66 334  13   2  53]\n",
      " [ 17   1 675   2  15]\n",
      " [ 27   0  35 333  51]\n",
      " [ 27   0   0   1 677]]\n",
      "\n",
      "\n",
      "classification report\n",
      "0.8967532467532467\n"
     ]
    }
   ],
   "source": [
    "print('classification report')\n",
    "print(classification_report(y_train,y_train_pred))\n",
    "print('\\n')\n",
    "print('confusion matrix')\n",
    "print(confusion_matrix(y_train,y_train_pred))\n",
    "print('\\n')\n",
    "print('classification report')\n",
    "print(accuracy_score(y_train,y_train_pred))"
   ]
  },
  {
   "cell_type": "markdown",
   "metadata": {},
   "source": [
    "## Data Test"
   ]
  },
  {
   "cell_type": "code",
   "execution_count": 23,
   "metadata": {},
   "outputs": [],
   "source": [
    "count_vec = CountVectorizer()\n",
    "X_test_c = count_vec.fit_transform(X_test)\n",
    "\n",
    "tfidf = TfidfTransformer()\n",
    "X_test_tfidf = tfidf.fit_transform(X_test_c)"
   ]
  },
  {
   "cell_type": "code",
   "execution_count": 24,
   "metadata": {},
   "outputs": [],
   "source": [
    "mnb_model = MultinomialNB().fit(X_test_tfidf,y_test)"
   ]
  },
  {
   "cell_type": "code",
   "execution_count": 25,
   "metadata": {},
   "outputs": [
    {
     "data": {
      "text/html": [
       "<style>#sk-container-id-2 {color: black;background-color: white;}#sk-container-id-2 pre{padding: 0;}#sk-container-id-2 div.sk-toggleable {background-color: white;}#sk-container-id-2 label.sk-toggleable__label {cursor: pointer;display: block;width: 100%;margin-bottom: 0;padding: 0.3em;box-sizing: border-box;text-align: center;}#sk-container-id-2 label.sk-toggleable__label-arrow:before {content: \"▸\";float: left;margin-right: 0.25em;color: #696969;}#sk-container-id-2 label.sk-toggleable__label-arrow:hover:before {color: black;}#sk-container-id-2 div.sk-estimator:hover label.sk-toggleable__label-arrow:before {color: black;}#sk-container-id-2 div.sk-toggleable__content {max-height: 0;max-width: 0;overflow: hidden;text-align: left;background-color: #f0f8ff;}#sk-container-id-2 div.sk-toggleable__content pre {margin: 0.2em;color: black;border-radius: 0.25em;background-color: #f0f8ff;}#sk-container-id-2 input.sk-toggleable__control:checked~div.sk-toggleable__content {max-height: 200px;max-width: 100%;overflow: auto;}#sk-container-id-2 input.sk-toggleable__control:checked~label.sk-toggleable__label-arrow:before {content: \"▾\";}#sk-container-id-2 div.sk-estimator input.sk-toggleable__control:checked~label.sk-toggleable__label {background-color: #d4ebff;}#sk-container-id-2 div.sk-label input.sk-toggleable__control:checked~label.sk-toggleable__label {background-color: #d4ebff;}#sk-container-id-2 input.sk-hidden--visually {border: 0;clip: rect(1px 1px 1px 1px);clip: rect(1px, 1px, 1px, 1px);height: 1px;margin: -1px;overflow: hidden;padding: 0;position: absolute;width: 1px;}#sk-container-id-2 div.sk-estimator {font-family: monospace;background-color: #f0f8ff;border: 1px dotted black;border-radius: 0.25em;box-sizing: border-box;margin-bottom: 0.5em;}#sk-container-id-2 div.sk-estimator:hover {background-color: #d4ebff;}#sk-container-id-2 div.sk-parallel-item::after {content: \"\";width: 100%;border-bottom: 1px solid gray;flex-grow: 1;}#sk-container-id-2 div.sk-label:hover label.sk-toggleable__label {background-color: #d4ebff;}#sk-container-id-2 div.sk-serial::before {content: \"\";position: absolute;border-left: 1px solid gray;box-sizing: border-box;top: 0;bottom: 0;left: 50%;z-index: 0;}#sk-container-id-2 div.sk-serial {display: flex;flex-direction: column;align-items: center;background-color: white;padding-right: 0.2em;padding-left: 0.2em;position: relative;}#sk-container-id-2 div.sk-item {position: relative;z-index: 1;}#sk-container-id-2 div.sk-parallel {display: flex;align-items: stretch;justify-content: center;background-color: white;position: relative;}#sk-container-id-2 div.sk-item::before, #sk-container-id-2 div.sk-parallel-item::before {content: \"\";position: absolute;border-left: 1px solid gray;box-sizing: border-box;top: 0;bottom: 0;left: 50%;z-index: -1;}#sk-container-id-2 div.sk-parallel-item {display: flex;flex-direction: column;z-index: 1;position: relative;background-color: white;}#sk-container-id-2 div.sk-parallel-item:first-child::after {align-self: flex-end;width: 50%;}#sk-container-id-2 div.sk-parallel-item:last-child::after {align-self: flex-start;width: 50%;}#sk-container-id-2 div.sk-parallel-item:only-child::after {width: 0;}#sk-container-id-2 div.sk-dashed-wrapped {border: 1px dashed gray;margin: 0 0.4em 0.5em 0.4em;box-sizing: border-box;padding-bottom: 0.4em;background-color: white;}#sk-container-id-2 div.sk-label label {font-family: monospace;font-weight: bold;display: inline-block;line-height: 1.2em;}#sk-container-id-2 div.sk-label-container {text-align: center;}#sk-container-id-2 div.sk-container {/* jupyter's `normalize.less` sets `[hidden] { display: none; }` but bootstrap.min.css set `[hidden] { display: none !important; }` so we also need the `!important` here to be able to override the default hidden behavior on the sphinx rendered scikit-learn.org. See: https://github.com/scikit-learn/scikit-learn/issues/21755 */display: inline-block !important;position: relative;}#sk-container-id-2 div.sk-text-repr-fallback {display: none;}</style><div id=\"sk-container-id-2\" class=\"sk-top-container\"><div class=\"sk-text-repr-fallback\"><pre>MultinomialNB()</pre><b>In a Jupyter environment, please rerun this cell to show the HTML representation or trust the notebook. <br />On GitHub, the HTML representation is unable to render, please try loading this page with nbviewer.org.</b></div><div class=\"sk-container\" hidden><div class=\"sk-item\"><div class=\"sk-estimator sk-toggleable\"><input class=\"sk-toggleable__control sk-hidden--visually\" id=\"sk-estimator-id-2\" type=\"checkbox\" checked><label for=\"sk-estimator-id-2\" class=\"sk-toggleable__label sk-toggleable__label-arrow\">MultinomialNB</label><div class=\"sk-toggleable__content\"><pre>MultinomialNB()</pre></div></div></div></div></div>"
      ],
      "text/plain": [
       "MultinomialNB()"
      ]
     },
     "execution_count": 25,
     "metadata": {},
     "output_type": "execute_result"
    }
   ],
   "source": [
    "mnb_model"
   ]
  },
  {
   "cell_type": "code",
   "execution_count": 26,
   "metadata": {},
   "outputs": [],
   "source": [
    "y_test_pred = mnb_model.predict(X_test_tfidf)"
   ]
  },
  {
   "cell_type": "code",
   "execution_count": 27,
   "metadata": {
    "scrolled": true
   },
   "outputs": [
    {
     "name": "stdout",
     "output_type": "stream",
     "text": [
      "classification report\n",
      "              precision    recall  f1-score   support\n",
      "\n",
      "           0       0.77      1.00      0.87       350\n",
      "           1       0.99      0.55      0.70       181\n",
      "           2       0.98      0.95      0.97       307\n",
      "           3       0.98      0.81      0.89       191\n",
      "           4       0.89      0.95      0.92       292\n",
      "\n",
      "    accuracy                           0.89      1321\n",
      "   macro avg       0.92      0.85      0.87      1321\n",
      "weighted avg       0.90      0.89      0.88      1321\n",
      "\n",
      "\n",
      "\n",
      "confusion matrix\n",
      "[[349   1   0   0   0]\n",
      " [ 59  99   4   3  16]\n",
      " [ 13   0 293   0   1]\n",
      " [ 16   0   3 154  18]\n",
      " [ 16   0   0   0 276]]\n",
      "\n",
      "\n",
      "classification report\n",
      "0.886449659348978\n"
     ]
    }
   ],
   "source": [
    "print('classification report')\n",
    "print(classification_report(y_test,y_test_pred))\n",
    "print('\\n')\n",
    "print('confusion matrix')\n",
    "print(confusion_matrix(y_test,y_test_pred))\n",
    "print('\\n')\n",
    "print('classification report')\n",
    "print(accuracy_score(y_test,y_test_pred))"
   ]
  },
  {
   "cell_type": "markdown",
   "metadata": {},
   "source": [
    "# Modelling : ComplementNB"
   ]
  },
  {
   "cell_type": "markdown",
   "metadata": {},
   "source": [
    "## Data Train"
   ]
  },
  {
   "cell_type": "code",
   "execution_count": 28,
   "metadata": {},
   "outputs": [],
   "source": [
    "count_vec = CountVectorizer()\n",
    "X_train_c = count_vec.fit_transform(X_train)\n",
    "\n",
    "tfidf = TfidfTransformer()\n",
    "X_train_tfidf = tfidf.fit_transform(X_train_c)"
   ]
  },
  {
   "cell_type": "code",
   "execution_count": 29,
   "metadata": {},
   "outputs": [],
   "source": [
    "cnb_model = ComplementNB().fit(X_train_tfidf,y_train)"
   ]
  },
  {
   "cell_type": "code",
   "execution_count": 30,
   "metadata": {},
   "outputs": [],
   "source": [
    "y_train_pred = cnb_model.predict(X_train_tfidf)"
   ]
  },
  {
   "cell_type": "code",
   "execution_count": 31,
   "metadata": {},
   "outputs": [
    {
     "name": "stdout",
     "output_type": "stream",
     "text": [
      "classification report\n",
      "              precision    recall  f1-score   support\n",
      "\n",
      "           0       0.96      0.99      0.98       751\n",
      "           1       0.98      0.98      0.98       468\n",
      "           2       0.99      0.97      0.98       710\n",
      "           3       0.96      0.98      0.97       446\n",
      "           4       0.98      0.96      0.97       705\n",
      "\n",
      "    accuracy                           0.98      3080\n",
      "   macro avg       0.98      0.98      0.98      3080\n",
      "weighted avg       0.98      0.98      0.98      3080\n",
      "\n",
      "\n",
      "\n",
      "confusion matrix\n",
      "[[746   2   1   0   2]\n",
      " [  2 457   3   3   3]\n",
      " [ 10   2 686   6   6]\n",
      " [  4   4   2 435   1]\n",
      " [ 16   1   0   8 680]]\n",
      "\n",
      "\n",
      "classification report\n",
      "0.9753246753246754\n"
     ]
    }
   ],
   "source": [
    "print('classification report')\n",
    "print(classification_report(y_train,y_train_pred))\n",
    "print('\\n')\n",
    "print('confusion matrix')\n",
    "print(confusion_matrix(y_train,y_train_pred))\n",
    "print('\\n')\n",
    "print('classification report')\n",
    "print(accuracy_score(y_train,y_train_pred))"
   ]
  },
  {
   "cell_type": "markdown",
   "metadata": {},
   "source": [
    "## Data Test"
   ]
  },
  {
   "cell_type": "code",
   "execution_count": 32,
   "metadata": {},
   "outputs": [],
   "source": [
    "count_vec = CountVectorizer()\n",
    "X_test_c = count_vec.fit_transform(X_test)\n",
    "\n",
    "tfidf = TfidfTransformer()\n",
    "X_test_tfidf = tfidf.fit_transform(X_test_c)"
   ]
  },
  {
   "cell_type": "code",
   "execution_count": 33,
   "metadata": {},
   "outputs": [],
   "source": [
    "cnb_model = ComplementNB().fit(X_test_tfidf,y_test)"
   ]
  },
  {
   "cell_type": "code",
   "execution_count": 34,
   "metadata": {},
   "outputs": [],
   "source": [
    "y_test_pred = cnb_model.predict(X_test_tfidf)"
   ]
  },
  {
   "cell_type": "code",
   "execution_count": 35,
   "metadata": {},
   "outputs": [
    {
     "name": "stdout",
     "output_type": "stream",
     "text": [
      "classification report\n",
      "              precision    recall  f1-score   support\n",
      "\n",
      "           0       0.98      0.99      0.99       350\n",
      "           1       0.99      0.98      0.99       181\n",
      "           2       1.00      0.99      0.99       307\n",
      "           3       0.98      1.00      0.99       191\n",
      "           4       1.00      0.98      0.99       292\n",
      "\n",
      "    accuracy                           0.99      1321\n",
      "   macro avg       0.99      0.99      0.99      1321\n",
      "weighted avg       0.99      0.99      0.99      1321\n",
      "\n",
      "\n",
      "\n",
      "confusion matrix\n",
      "[[348   2   0   0   0]\n",
      " [  1 178   0   1   1]\n",
      " [  3   0 303   1   0]\n",
      " [  0   0   0 191   0]\n",
      " [  4   0   1   2 285]]\n",
      "\n",
      "\n",
      "classification report\n",
      "0.987887963663891\n"
     ]
    }
   ],
   "source": [
    "print('classification report')\n",
    "print(classification_report(y_test,y_test_pred))\n",
    "print('\\n')\n",
    "print('confusion matrix')\n",
    "print(confusion_matrix(y_test,y_test_pred))\n",
    "print('\\n')\n",
    "print('classification report')\n",
    "print(accuracy_score(y_test,y_test_pred))"
   ]
  },
  {
   "cell_type": "markdown",
   "metadata": {},
   "source": [
    "Kesimpulan\n",
    "\n",
    "1. MultinomialNB\n",
    "  - Kinerja prediksi Data Latih : 0.89675\n",
    "  - Kinerja prediksi Data Uji : 0.88645\n",
    "\n",
    "2. ComplementNB\n",
    "  - Kinerja prediksi Data Latih : 0.97533\n",
    "  - Kinerja prediksi Data Uji : 0.98788\n",
    "\n",
    "Berdasarkan laporan klasifikasi dari kedua jenis algoritma naive bayes, kita mengetahui bahwa kedua algoritma tersebut berkinerja baik. Tidak ada perbedaan yang terlalu signifikan antara akurasi kinerja data latih dan data uji. Namun di sini, ComplementNB lebih baik daripada MultinomialNB. MultinomialNB adalah adaptasi dari Naive Bayes Multinomial standar yang sangat cocok untuk data yang tidak seimbang ini.\n"
   ]
  },
  {
   "cell_type": "code",
   "execution_count": null,
   "metadata": {},
   "outputs": [],
   "source": []
  },
  {
   "cell_type": "code",
   "execution_count": null,
   "metadata": {},
   "outputs": [],
   "source": []
  },
  {
   "cell_type": "code",
   "execution_count": null,
   "metadata": {},
   "outputs": [],
   "source": []
  },
  {
   "cell_type": "code",
   "execution_count": null,
   "metadata": {},
   "outputs": [],
   "source": []
  }
 ],
 "metadata": {
  "kernelspec": {
   "display_name": "Python 3 (ipykernel)",
   "language": "python",
   "name": "python3"
  },
  "language_info": {
   "codemirror_mode": {
    "name": "ipython",
    "version": 3
   },
   "file_extension": ".py",
   "mimetype": "text/x-python",
   "name": "python",
   "nbconvert_exporter": "python",
   "pygments_lexer": "ipython3",
   "version": "3.11.7"
  }
 },
 "nbformat": 4,
 "nbformat_minor": 4
}
